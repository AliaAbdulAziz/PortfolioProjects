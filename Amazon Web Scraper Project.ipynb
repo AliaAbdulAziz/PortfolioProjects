{
 "cells": [
  {
   "cell_type": "code",
   "execution_count": 2,
   "id": "f5d8ab7b",
   "metadata": {},
   "outputs": [],
   "source": [
    "# Import libraries\n",
    "\n",
    "from bs4 import BeautifulSoup\n",
    "import requests\n",
    "import smtplib\n",
    "import time\n",
    "import datetime"
   ]
  },
  {
   "cell_type": "code",
   "execution_count": 39,
   "id": "31f05a31",
   "metadata": {},
   "outputs": [
    {
     "name": "stdout",
     "output_type": "stream",
     "text": [
      "Funny Got Data MIS Data Systems Business Analyst T-Shirt\n",
      "16.99\n"
     ]
    },
    {
     "data": {
      "text/plain": [
       "str"
      ]
     },
     "execution_count": 39,
     "metadata": {},
     "output_type": "execute_result"
    }
   ],
   "source": [
    "# Connect to website\n",
    "\n",
    "URL = 'https://www.amazon.com/Funny-Data-Systems-Business-Analyst/dp/B07FNW9FGJ/ref=sr_1_5?dib=eyJ2IjoiMSJ9.NKhqu4wCoKrLtKjUAlSmE_8E57v1ZIX3oLrMN6xUZirVkSB-Uz53Dw_bzldPsI6liN_T2k4BJZC7Vz4hS_nJoMIgqYKgV3XnLnUlUkyMxLdMtzGv22JuFwODh6PoQ856lR0zwEZ_6vM_1xBmpaD8B5EHGFuSRQav_dpOaiqqlhUGfFysua87WN5yjmi3qci5YU47_039TU11KNNzn1Ho31VgPbxdwJVrQLBrSVrkyifC-8SlvYDjYby59fnzXukthQqmmslzqopkxwL-m8PIk_PE8yit3jDB2M9QjR7CrJs.ntgAdt37JH6pZmCjYZymHpGvDF0hSNktQGhafPfrWmQ&dib_tag=se&keywords=data%2Banalyst%2Btshirt&qid=1715090117&sr=8-5'\n",
    "page = requests.get(URL, \"lxml\")\n",
    "soup = BeautifulSoup(page.content, 'html.parser')\n",
    "\n",
    "# Fetching the title\n",
    "\n",
    "title = soup.find(id='productTitle').get_text()\n",
    "\n",
    "# Fetching the price\n",
    "\n",
    "price1 = soup.find('span', {'class' : 'a-price-whole'}).get_text()\n",
    "price2 = soup.find('span', {'class' : 'a-price-fraction'}).get_text()\n",
    "price = price1+price2\n",
    "\n",
    "# Cleaning the title and price\n",
    "\n",
    "title = title.strip()\n",
    "price = price.strip()\n",
    "\n",
    "print(title)\n",
    "print(price)"
   ]
  },
  {
   "cell_type": "code",
   "execution_count": 40,
   "id": "995a151b",
   "metadata": {},
   "outputs": [
    {
     "data": {
      "text/plain": [
       "list"
      ]
     },
     "execution_count": 40,
     "metadata": {},
     "output_type": "execute_result"
    }
   ],
   "source": [
    "import csv\n",
    "\n",
    "header = ['Title', 'Price']\n",
    "data = [title, price]\n",
    "\n",
    "with open('AmazonWebScraperDataset.csv', 'w', newline='', encoding='UTF8') as f:\n",
    "    writer = csv.writer(f)\n",
    "    writer.writerow(header)\n",
    "    \n",
    "    "
   ]
  },
  {
   "cell_type": "code",
   "execution_count": null,
   "id": "ba3b9e58",
   "metadata": {},
   "outputs": [],
   "source": []
  }
 ],
 "metadata": {
  "kernelspec": {
   "display_name": "Python 3 (ipykernel)",
   "language": "python",
   "name": "python3"
  },
  "language_info": {
   "codemirror_mode": {
    "name": "ipython",
    "version": 3
   },
   "file_extension": ".py",
   "mimetype": "text/x-python",
   "name": "python",
   "nbconvert_exporter": "python",
   "pygments_lexer": "ipython3",
   "version": "3.11.5"
  }
 },
 "nbformat": 4,
 "nbformat_minor": 5
}
